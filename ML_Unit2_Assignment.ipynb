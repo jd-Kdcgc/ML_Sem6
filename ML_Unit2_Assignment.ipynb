{
  "nbformat": 4,
  "nbformat_minor": 0,
  "metadata": {
    "colab": {
      "provenance": []
    },
    "kernelspec": {
      "name": "python3",
      "display_name": "Python 3"
    },
    "language_info": {
      "name": "python"
    }
  },
  "cells": [
    {
      "cell_type": "code",
      "execution_count": 6,
      "metadata": {
        "colab": {
          "base_uri": "https://localhost:8080/"
        },
        "id": "pYgEYbUgL5iO",
        "outputId": "bd4c4d73-a26a-4f3b-b1d2-d64194db91c5"
      },
      "outputs": [
        {
          "output_type": "stream",
          "name": "stdout",
          "text": [
            "Attribute: Day, Entropy: 0.9403, Gain: 0.9403\n",
            "Attribute: Outlook, Entropy: 0.9403, Gain: 0.2467\n",
            "Attribute: Temperature, Entropy: 0.9403, Gain: 0.0292\n",
            "Attribute: Humidity, Entropy: 0.9403, Gain: 0.1898\n",
            "Attribute: Wind, Entropy: 0.9403, Gain: 0.2449\n"
          ]
        }
      ],
      "source": [
        "import math\n",
        "import pandas as pd\n",
        "\n",
        "def calculate_entropy(data, target_attribute):\n",
        "    entropy = 0\n",
        "    total_records = len(data[target_attribute])\n",
        "    unique_classes = set(data[target_attribute])\n",
        "\n",
        "    for value in unique_classes:\n",
        "        count = data[target_attribute].eq(value).sum()\n",
        "        probability = count / total_records\n",
        "        entropy -= probability * math.log2(probability)\n",
        "\n",
        "    return entropy\n",
        "\n",
        "def calculate_gain(data, attribute, target_attribute):\n",
        "    unique_values = set(data[attribute])\n",
        "    total_records = len(data[target_attribute])\n",
        "    gain = calculate_entropy(data, target_attribute)\n",
        "\n",
        "    for value in unique_values:\n",
        "        subset = data[data[attribute] == value]\n",
        "        subset_entropy = calculate_entropy(subset, target_attribute)\n",
        "        subset_weight = len(subset) / total_records\n",
        "        gain -= subset_weight * subset_entropy\n",
        "\n",
        "    return gain\n",
        "\n",
        "# Convert the data to a pandas DataFrame\n",
        "df = pd.DataFrame(data)\n",
        "\n",
        "# Target attribute\n",
        "target_attribute = 'Play Tennis'\n",
        "\n",
        "# Calculate entropy and gain for each attribute\n",
        "for attribute in df.columns:\n",
        "    if attribute != target_attribute:\n",
        "        entropy = calculate_entropy(df, target_attribute)\n",
        "        gain = calculate_gain(df, attribute, target_attribute)\n",
        "        print(f\"Attribute: {attribute}, Entropy: {entropy:.4f}, Gain: {gain:.4f}\")\n"
      ]
    }
  ]
}